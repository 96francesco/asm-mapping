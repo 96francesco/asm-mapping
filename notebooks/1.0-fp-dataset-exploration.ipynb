{
 "cells": [
  {
   "cell_type": "markdown",
   "metadata": {},
   "source": [
    "# Imports"
   ]
  },
  {
   "cell_type": "markdown",
   "metadata": {},
   "source": [
    "### Standards"
   ]
  },
  {
   "cell_type": "code",
   "execution_count": null,
   "metadata": {},
   "outputs": [],
   "source": [
    "from pathlib import Path"
   ]
  },
  {
   "cell_type": "markdown",
   "metadata": {},
   "source": [
    "### Externals"
   ]
  },
  {
   "cell_type": "code",
   "execution_count": null,
   "metadata": {},
   "outputs": [],
   "source": [
    "import matplotlib.pyplot as plt\n",
    "import torch\n",
    "import numpy as np\n",
    "\n",
    "from pytorch_lightning import seed_everything"
   ]
  },
  {
   "cell_type": "markdown",
   "metadata": {},
   "source": [
    "### Internal modules"
   ]
  },
  {
   "cell_type": "code",
   "execution_count": null,
   "metadata": {},
   "outputs": [],
   "source": [
    "from asm_mapping.data.planetscope_dataset import PlanetScopeDataset\n",
    "from asm_mapping.data.sentinel1_dataset import Sentinel1Dataset\n",
    "from asm_mapping.data.fusion_dataset import FusionDataset\n",
    "from asm_mapping.data.dataset_mode import DatasetMode\n",
    "from asm_mapping.data.fusion_dataset import ResampleStrategy"
   ]
  },
  {
   "cell_type": "markdown",
   "metadata": {},
   "source": [
    "# Configs"
   ]
  },
  {
   "cell_type": "code",
   "execution_count": null,
   "metadata": {},
   "outputs": [],
   "source": [
    "# seeds\n",
    "RANDOM = 79\n",
    "seed_everything(RANDOM, workers=True)"
   ]
  },
  {
   "cell_type": "code",
   "execution_count": null,
   "metadata": {},
   "outputs": [],
   "source": [
    "# folders\n",
    "PS_DATA = \"/mnt/guanabana/raid/home/pasan001/asm-mapping/data/ps_split/split_0/training_set\"\n",
    "S1_DATA = \"/mnt/guanabana/raid/home/pasan001/asm-mapping/data/s1_split/split_0/training_set\"\n",
    "FUSION_DATA = \"/mnt/guanabana/raid/home/pasan001/asm-mapping/data/\""
   ]
  },
  {
   "cell_type": "code",
   "execution_count": null,
   "metadata": {},
   "outputs": [],
   "source": [
    "# datasets\n",
    "PAD = False\n",
    "TRANSFORMS = None\n",
    "STANDALONE_MODE = DatasetMode.STANDALONE\n",
    "FUSION_MODE = DatasetMode.FUSION"
   ]
  },
  {
   "cell_type": "markdown",
   "metadata": {},
   "source": [
    "# Datasets"
   ]
  },
  {
   "cell_type": "markdown",
   "metadata": {},
   "source": [
    "## PlanetScope"
   ]
  },
  {
   "cell_type": "code",
   "execution_count": null,
   "metadata": {},
   "outputs": [],
   "source": [
    "ps_dataset = PlanetScopeDataset(data_dir=PS_DATA,\n",
    "                              mode=STANDALONE_MODE,\n",
    "                              pad=PAD,\n",
    "                              transforms=TRANSFORMS)"
   ]
  },
  {
   "cell_type": "code",
   "execution_count": null,
   "metadata": {},
   "outputs": [],
   "source": [
    "def plot_ps_band_hist(image):\n",
    "    bands = ['Blue', 'Green', 'Red', 'NIR']\n",
    "    plt.figure(figsize=(10, 8))\n",
    "\n",
    "    for i, band in enumerate(bands):\n",
    "        plt.subplot(2, 2, i + 1)\n",
    "        plt.hist(image[i].ravel(), bins=256, color='k', alpha=0.5)\n",
    "        plt.title(f'{band} band histogram')\n",
    "        plt.xlim([0, 1])\n",
    "        plt.ylim([0, 8000])\n",
    "    plt.tight_layout()\n",
    "    plt.show()"
   ]
  },
  {
   "cell_type": "code",
   "execution_count": null,
   "metadata": {},
   "outputs": [],
   "source": [
    "def plot_ps_examples(dataset, indices=None, num_examples=3):\n",
    "    if indices is None:\n",
    "        indices = torch.randint(len(dataset), size=(num_examples,)).tolist()\n",
    "    else:\n",
    "        num_examples = len(indices)\n",
    "\n",
    "    subplot_cols = 3\n",
    "    fig, axs = plt.subplots(num_examples, subplot_cols, figsize=(12, num_examples * 4))\n",
    "\n",
    "    for i, idx in enumerate(indices):\n",
    "        img_tensor, gt_tensor = dataset[idx]\n",
    "\n",
    "        # extract file name and index\n",
    "        img_file_name = dataset.dataset[idx][0]\n",
    "        img_index = img_file_name.split('_')[-1].split('.')[0]\n",
    "\n",
    "        # check and convert data type\n",
    "        img = img_tensor.numpy()\n",
    "\n",
    "        # reorder bands from BGR to RGB\n",
    "        img_rgb = img[[2, 1, 0], :, :]\n",
    "\n",
    "        # reorder dimensions to (height, width, channels) as expected from matplotlib\n",
    "        img_rgb = np.transpose(img_rgb, (1, 2, 0))\n",
    "        \n",
    "        # adjust image brightness\n",
    "        factor = 1.5\n",
    "        img_rgb = np.clip(img_rgb * factor, 0, 1)\n",
    "\n",
    "        # ensure ground truth is uint8\n",
    "        gt = gt_tensor.numpy()\n",
    "\n",
    "        # extract  NDVI from the dataset\n",
    "        ndvi = img_tensor[4, :, :].numpy()\n",
    "\n",
    "        # make plot\n",
    "        axs[i, 0].imshow(img_rgb)\n",
    "        axs[i, 0].set_title(f\"Image {img_index} - RGB\")\n",
    "        axs[i, 0].axis('off')\n",
    "\n",
    "        axs[i, subplot_cols-2].imshow(ndvi, cmap='RdYlGn')\n",
    "        axs[i, subplot_cols-2].set_title(f\"NDVI\")\n",
    "        axs[i, subplot_cols-2].axis('off')\n",
    "\n",
    "        axs[i, subplot_cols-1].imshow(gt, cmap='gray')\n",
    "        axs[i, subplot_cols-1].set_title(f\"Ground Truth {img_index}\")\n",
    "        axs[i, subplot_cols-1].axis('off')\n",
    "\n",
    "    plt.tight_layout()\n",
    "    plt.show()"
   ]
  },
  {
   "cell_type": "code",
   "execution_count": null,
   "metadata": {},
   "outputs": [],
   "source": [
    "index = 111\n",
    "plot_ps_band_hist(ps_dataset[index][0].numpy())"
   ]
  },
  {
   "cell_type": "code",
   "execution_count": null,
   "metadata": {},
   "outputs": [],
   "source": [
    "plot_ps_examples(ps_dataset, indices=[87, 1, 111])"
   ]
  },
  {
   "cell_type": "markdown",
   "metadata": {},
   "source": [
    "## Sentinel-1"
   ]
  },
  {
   "cell_type": "code",
   "execution_count": null,
   "metadata": {},
   "outputs": [],
   "source": [
    "s1_dataset = Sentinel1Dataset(data_dir=S1_DATA,\n",
    "                              mode=STANDALONE_MODE,\n",
    "                              pad=PAD,\n",
    "                              transforms=TRANSFORMS,\n",
    "                              split=\"split_0\")"
   ]
  },
  {
   "cell_type": "code",
   "execution_count": null,
   "metadata": {},
   "outputs": [],
   "source": [
    "len(s1_dataset)"
   ]
  },
  {
   "cell_type": "code",
   "execution_count": null,
   "metadata": {},
   "outputs": [],
   "source": [
    "def plot_s1_band_hist(image):\n",
    "    bands = ['VV', 'VH', 'VV/VH']\n",
    "    plt.figure(figsize=(15, 5))\n",
    "\n",
    "    for i, band in enumerate(bands):\n",
    "        plt.subplot(1, 3, i + 1)\n",
    "        data = image[i].ravel()\n",
    "        print(f\"{band} stats: min={data.min():.4f}, max={data.max():.4f}, mean={data.mean():.4f}, std={data.std():.4f}\")\n",
    "        plt.hist(data, bins=256, color='k', alpha=0.5)\n",
    "        plt.title(f'{band} band histogram')\n",
    "        plt.xlim([0, 1])\n",
    "        plt.ylim([0, 1000])\n",
    "    plt.tight_layout()\n",
    "    plt.show()"
   ]
  },
  {
   "cell_type": "code",
   "execution_count": null,
   "metadata": {},
   "outputs": [],
   "source": [
    "def plot_s1_examples(dataset, indices=None, num_examples=3):\n",
    "    if indices is None:\n",
    "        indices = torch.randint(len(dataset), size=(num_examples,)).tolist()\n",
    "    else:\n",
    "        num_examples = len(indices)\n",
    "\n",
    "    subplot_cols = 4\n",
    "    fig, axs = plt.subplots(num_examples, subplot_cols, figsize=(16, num_examples * 4))\n",
    "\n",
    "    for i, idx in enumerate(indices):\n",
    "        img_tensor, gt_tensor = dataset[idx]\n",
    "\n",
    "        # extract file name and index\n",
    "        img_file_name = dataset.dataset[idx][0]\n",
    "        img_index = img_file_name.split('_')[-1].split('.')[0]\n",
    "\n",
    "        # convert to numpy\n",
    "        img = img_tensor.numpy()\n",
    "\n",
    "        vv = img[0, :, :]\n",
    "        vh = img[1, :, :]\n",
    "        ratio = img[2, :, :]\n",
    "            \n",
    "        # make RGB stack\n",
    "        img_rgb = np.stack([vv, vh, ratio], axis=-1)\n",
    "\n",
    "        # ensure ground truth is uint8\n",
    "        gt = gt_tensor.numpy()\n",
    "\n",
    "        # make plot\n",
    "        axs[i, 0].imshow(vv, cmap='gray')\n",
    "        axs[i, 0].set_title(f\"Image {img_index} - VV\")\n",
    "        axs[i, 0].axis('off')\n",
    "\n",
    "        axs[i, 1].imshow(vh, cmap='gray')\n",
    "        axs[i, 1].set_title(f\"Image {img_index} - VH\")\n",
    "        axs[i, 1].axis('off')\n",
    "\n",
    "        axs[i, 2].imshow(img_rgb, cmap='plasma')\n",
    "        axs[i, 2].set_title(f\"Image {img_index} - RGB (VV, VH, VV/VH)\")\n",
    "        axs[i, 2].axis('off')\n",
    "\n",
    "        axs[i, 3].imshow(gt, cmap='gray')\n",
    "        axs[i, 3].set_title(f\"Ground Truth {img_index}\")\n",
    "        axs[i, 3].axis('off')\n",
    "\n",
    "    plt.tight_layout()\n",
    "    plt.show()"
   ]
  },
  {
   "cell_type": "code",
   "execution_count": null,
   "metadata": {},
   "outputs": [],
   "source": [
    "index = 111\n",
    "plot_s1_band_hist(s1_dataset[index][0].numpy())"
   ]
  },
  {
   "cell_type": "code",
   "execution_count": null,
   "metadata": {},
   "outputs": [],
   "source": [
    "plot_s1_examples(s1_dataset, indices=[87, 1, 111])"
   ]
  },
  {
   "cell_type": "markdown",
   "metadata": {},
   "source": [
    "## Fusion"
   ]
  },
  {
   "cell_type": "code",
   "execution_count": null,
   "metadata": {},
   "outputs": [],
   "source": [
    "fusion_dataset = FusionDataset(\n",
    "    data_dir=FUSION_DATA,\n",
    "    split=0,\n",
    "    transforms=False,\n",
    "    pad=True,\n",
    "    resample_strategy=ResampleStrategy(\"upsample_s1\")\n",
    ")"
   ]
  },
  {
   "cell_type": "code",
   "execution_count": null,
   "metadata": {},
   "outputs": [],
   "source": [
    "def plot_fusion_examples(dataset, indices=None, num_examples=3):\n",
    "      if indices is None:\n",
    "            indices = torch.randint(len(dataset), size=(num_examples,)).tolist()\n",
    "      else:\n",
    "            num_examples = len(indices)\n",
    "\n",
    "      subplot_cols = 3\n",
    "      fig, axs = plt.subplots(num_examples, subplot_cols, figsize=(15, num_examples * 4))\n",
    "\n",
    "      for i, idx in enumerate(indices):\n",
    "            planet_tensor, s1_tensor, gt_tensor = dataset[idx]\n",
    "\n",
    "            # normalize Planet RGB\n",
    "            planet_img = planet_tensor.numpy()\n",
    "            planet_rgb = planet_img[[2, 1, 0], :, :]  # Reorder to RGB\n",
    "            planet_rgb = np.transpose(planet_rgb, (1, 2, 0))\n",
    "            planet_rgb = np.clip((planet_rgb - planet_rgb.min()) / (planet_rgb.max() - planet_rgb.min()), 0, 1)\n",
    "\n",
    "            # normalize S1 RGB composite with VV, VH, and VV/VH ratio\n",
    "            s1_img = s1_tensor.numpy()\n",
    "            s1_composite = np.zeros((s1_img.shape[1], s1_img.shape[2], 3))\n",
    "            for j, band_idx in enumerate([0, 1, 2]):  # VV, VH, ratio\n",
    "                  band = s1_img[band_idx]\n",
    "                  s1_composite[:,:,j] = np.clip((band - band.min()) / (band.max() - band.min()), 0, 1)\n",
    "\n",
    "            # Make plots\n",
    "            axs[i, 0].imshow(planet_rgb)\n",
    "            axs[i, 0].set_title(f\"Planet RGB {idx}\")\n",
    "            axs[i, 0].axis('off')\n",
    "\n",
    "            axs[i, 1].imshow(s1_composite)\n",
    "            axs[i, 1].set_title(f\"S1 RGB composite {idx}\")\n",
    "            axs[i, 1].axis('off')\n",
    "\n",
    "            axs[i, 2].imshow(gt_tensor.numpy(), cmap='gray')\n",
    "            axs[i, 2].set_title(f\"Ground Truth {idx}\")\n",
    "            axs[i, 2].axis('off')\n",
    "\n",
    "      plt.tight_layout()\n",
    "      plt.show()"
   ]
  },
  {
   "cell_type": "code",
   "execution_count": null,
   "metadata": {},
   "outputs": [],
   "source": [
    "plot_fusion_examples(fusion_dataset, indices=[87, 1, 111])"
   ]
  }
 ],
 "metadata": {
  "kernelspec": {
   "display_name": ".venv",
   "language": "python",
   "name": "python3"
  },
  "language_info": {
   "codemirror_mode": {
    "name": "ipython",
    "version": 3
   },
   "file_extension": ".py",
   "mimetype": "text/x-python",
   "name": "python",
   "nbconvert_exporter": "python",
   "pygments_lexer": "ipython3",
   "version": "3.10.14"
  }
 },
 "nbformat": 4,
 "nbformat_minor": 2
}
