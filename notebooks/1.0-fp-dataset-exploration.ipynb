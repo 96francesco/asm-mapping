{
 "cells": [
  {
   "cell_type": "markdown",
   "metadata": {},
   "source": [
    "# Imports"
   ]
  },
  {
   "cell_type": "markdown",
   "metadata": {},
   "source": [
    "### Standards"
   ]
  },
  {
   "cell_type": "code",
   "execution_count": null,
   "metadata": {},
   "outputs": [],
   "source": [
    "from pathlib import Path"
   ]
  },
  {
   "cell_type": "markdown",
   "metadata": {},
   "source": [
    "### Externals"
   ]
  },
  {
   "cell_type": "code",
   "execution_count": null,
   "metadata": {},
   "outputs": [],
   "source": [
    "import matplotlib.pyplot as plt\n",
    "import torch\n",
    "import numpy as np\n",
    "\n",
    "from pytorch_lightning import seed_everything\n",
    "from torch.utils.data import DataLoader"
   ]
  },
  {
   "cell_type": "markdown",
   "metadata": {},
   "source": [
    "### Internal modules"
   ]
  },
  {
   "cell_type": "code",
   "execution_count": null,
   "metadata": {},
   "outputs": [],
   "source": [
    "from asm_mapping.data.planetscope_dataset import PlanetScopeDataset\n",
    "from asm_mapping.data.dataset_mode import DatasetMode"
   ]
  },
  {
   "cell_type": "markdown",
   "metadata": {},
   "source": [
    "# Configs"
   ]
  },
  {
   "cell_type": "code",
   "execution_count": null,
   "metadata": {},
   "outputs": [],
   "source": [
    "# seeds\n",
    "RANDOM = 79\n",
    "seed_everything(RANDOM, workers=True)"
   ]
  },
  {
   "cell_type": "code",
   "execution_count": null,
   "metadata": {},
   "outputs": [],
   "source": [
    "# folders\n",
    "PS_DATA = \"/mnt/guanabana/raid/home/pasan001/asm-mapping/data/split_0/planet/training_data\""
   ]
  },
  {
   "cell_type": "code",
   "execution_count": null,
   "metadata": {},
   "outputs": [],
   "source": [
    "# datasets\n",
    "PAD = False\n",
    "TRANSFORMS = False\n",
    "IS_FUSION = False\n",
    "IS_INFERENCE = False\n",
    "MODE = DatasetMode.STANDALONE"
   ]
  },
  {
   "cell_type": "markdown",
   "metadata": {},
   "source": [
    "# Datasets"
   ]
  },
  {
   "cell_type": "markdown",
   "metadata": {},
   "source": [
    "## PlanetScope"
   ]
  },
  {
   "cell_type": "code",
   "execution_count": null,
   "metadata": {},
   "outputs": [],
   "source": [
    "ps_dataset = PlanetScopeDataset(data_dir=PS_DATA,\n",
    "                              mode=MODE,\n",
    "                              pad=PAD,\n",
    "                              transforms=TRANSFORMS)"
   ]
  },
  {
   "cell_type": "code",
   "execution_count": null,
   "metadata": {},
   "outputs": [],
   "source": [
    "def plot_ps_band_hist(image):\n",
    "    bands = ['Blue', 'Green', 'Red', 'NIR']\n",
    "    plt.figure(figsize=(10, 8))\n",
    "\n",
    "    for i, band in enumerate(bands):\n",
    "        plt.subplot(2, 2, i + 1)\n",
    "        plt.hist(image[i].ravel(), bins=256, color='k', alpha=0.5)\n",
    "        plt.title(f'{band} band histogram')\n",
    "        plt.xlim([0, 1])\n",
    "        plt.ylim([0, 8000])\n",
    "    plt.tight_layout()\n",
    "    plt.show()"
   ]
  },
  {
   "cell_type": "code",
   "execution_count": null,
   "metadata": {},
   "outputs": [],
   "source": [
    "def plot_ps_examples(dataset, indices=None, num_examples=3):\n",
    "    if indices is None:\n",
    "        indices = torch.randint(len(dataset), size=(num_examples,)).tolist()\n",
    "    else:\n",
    "        num_examples = len(indices)\n",
    "\n",
    "    subplot_cols = 3\n",
    "    fig, axs = plt.subplots(num_examples, subplot_cols, figsize=(12, num_examples * 4))\n",
    "\n",
    "    for i, idx in enumerate(indices):\n",
    "        img_tensor, gt_tensor = dataset[idx]\n",
    "\n",
    "        # extract file name and index\n",
    "        img_file_name = dataset.dataset[idx][0]\n",
    "        img_index = img_file_name.split('_')[-1].split('.')[0]\n",
    "\n",
    "        # check and convert data type\n",
    "        img = img_tensor.numpy()\n",
    "\n",
    "        # reorder bands from BGR to RGB\n",
    "        img_rgb = img[[2, 1, 0], :, :]\n",
    "\n",
    "        # reorder dimensions to (height, width, channels) as expected from matplotlib\n",
    "        img_rgb = np.transpose(img_rgb, (1, 2, 0))\n",
    "        \n",
    "        # adjust image brightness\n",
    "        factor = 1.5\n",
    "        img_rgb = np.clip(img_rgb * factor, 0, 1)\n",
    "\n",
    "        # ensure ground truth is uint8\n",
    "        gt = gt_tensor.numpy()\n",
    "\n",
    "        # extract  NDVI from the dataset\n",
    "        ndvi = img_tensor[4, :, :].numpy()\n",
    "\n",
    "        # make plot\n",
    "        axs[i, 0].imshow(img_rgb)\n",
    "        axs[i, 0].set_title(f\"Image {img_index} - RGB\")\n",
    "        axs[i, 0].axis('off')\n",
    "\n",
    "        axs[i, subplot_cols-2].imshow(ndvi, cmap='RdYlGn')\n",
    "        axs[i, subplot_cols-2].set_title(f\"NDVI\")\n",
    "        axs[i, subplot_cols-2].axis('off')\n",
    "\n",
    "        axs[i, subplot_cols-1].imshow(gt, cmap='gray')\n",
    "        axs[i, subplot_cols-1].set_title(f\"Ground Truth {img_index}\")\n",
    "        axs[i, subplot_cols-1].axis('off')\n",
    "\n",
    "    plt.tight_layout()\n",
    "    plt.show()"
   ]
  },
  {
   "cell_type": "code",
   "execution_count": null,
   "metadata": {},
   "outputs": [],
   "source": [
    "index = 111\n",
    "plot_ps_band_hist(ps_dataset[index][0].numpy())"
   ]
  },
  {
   "cell_type": "code",
   "execution_count": null,
   "metadata": {},
   "outputs": [],
   "source": [
    "plot_ps_examples(ps_dataset, indices=[12, 99, 111])"
   ]
  }
 ],
 "metadata": {
  "kernelspec": {
   "display_name": "asmenv",
   "language": "python",
   "name": "python3"
  },
  "language_info": {
   "codemirror_mode": {
    "name": "ipython",
    "version": 3
   },
   "file_extension": ".py",
   "mimetype": "text/x-python",
   "name": "python",
   "nbconvert_exporter": "python",
   "pygments_lexer": "ipython3",
   "version": "3.10.14"
  }
 },
 "nbformat": 4,
 "nbformat_minor": 2
}
